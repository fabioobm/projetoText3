{
  "nbformat": 4,
  "nbformat_minor": 0,
  "metadata": {
    "colab": {
      "provenance": [],
      "authorship_tag": "ABX9TyPXSzxADCKfHqxUQXpebiol",
      "include_colab_link": true
    },
    "kernelspec": {
      "name": "python3",
      "display_name": "Python 3"
    },
    "language_info": {
      "name": "python"
    }
  },
  "cells": [
    {
      "cell_type": "markdown",
      "metadata": {
        "id": "view-in-github",
        "colab_type": "text"
      },
      "source": [
        "<a href=\"https://colab.research.google.com/github/fabioobm/projetoText3/blob/main/colabProjetoText3.ipynb\" target=\"_parent\"><img src=\"https://colab.research.google.com/assets/colab-badge.svg\" alt=\"Open In Colab\"/></a>"
      ]
    },
    {
      "cell_type": "code",
      "source": [
        "!pip install -q -U google-generativeai"
      ],
      "metadata": {
        "id": "w5D9BT4o2s03"
      },
      "execution_count": null,
      "outputs": []
    },
    {
      "cell_type": "code",
      "source": [
        "# Import the Python SDK\n",
        "import google.generativeai as genai\n",
        "# Used to securely store your API key\n",
        "from google.colab import userdata\n"
      ],
      "metadata": {
        "id": "yI8VC25OAQT0"
      },
      "execution_count": null,
      "outputs": []
    },
    {
      "cell_type": "code",
      "source": [
        "for m in genai.list_models():\n",
        " if 'generateContent' in m.supported_generation_methods:\n",
        "   print(m.name)"
      ],
      "metadata": {
        "colab": {
          "base_uri": "https://localhost:8080/",
          "height": 138
        },
        "id": "HaVNm1CGLqSp",
        "outputId": "5f69add1-6708-4f51-f66a-982779f8bf74"
      },
      "execution_count": 37,
      "outputs": [
        {
          "output_type": "stream",
          "name": "stdout",
          "text": [
            "models/gemini-1.0-pro\n",
            "models/gemini-1.0-pro-001\n",
            "models/gemini-1.0-pro-latest\n",
            "models/gemini-1.0-pro-vision-latest\n",
            "models/gemini-1.5-pro-latest\n",
            "models/gemini-pro\n",
            "models/gemini-pro-vision\n"
          ]
        }
      ]
    },
    {
      "cell_type": "code",
      "source": [
        "l"
      ],
      "metadata": {
        "id": "j5GnQ3aaHfI8"
      },
      "execution_count": null,
      "outputs": []
    },
    {
      "cell_type": "code",
      "source": [
        "l"
      ],
      "metadata": {
        "id": "SNdWJtq3IMum"
      },
      "execution_count": null,
      "outputs": []
    },
    {
      "cell_type": "code",
      "execution_count": 73,
      "metadata": {
        "colab": {
          "base_uri": "https://localhost:8080/",
          "height": 104
        },
        "outputId": "992bbcf1-0426-4b0d-994d-e5ceb119c54c",
        "id": "pK9xLu08IDI2"
      },
      "outputs": [
        {
          "output_type": "stream",
          "name": "stdout",
          "text": [
            "Comando ou 'sair' para encerrar): 34 32\n",
            "Resposta: 28\n",
            "----------------------------------\n",
            "Comando ou 'sair' para encerrar): sair\n",
            "Encerrando o chat.\n"
          ]
        }
      ],
      "source": [
        "\n",
        "#!pip install -q -U google-generativeai\n",
        "\n",
        "import google.generativeai as genai\n",
        "\n",
        "from google.colab import  userdata\n",
        "api_key = userdata.get('SECRET_KEY')\n",
        "\n",
        "genai.configure(api_key=api_key)\n",
        "\n",
        "# Set up the model\n",
        "\n",
        "# model = genai.GenerativeModel('gemini-pro')\n",
        "\n",
        "configuracao_regeneracao = {\n",
        "  \"temperature\": 0.5,\n",
        "  \"top_p\": 0.95,\n",
        "  \"top_k\": 0,\n",
        "  \"max_output_tokens\": 8192,\n",
        "}\n",
        "\n",
        "confSalvacoes = [\n",
        "  {\n",
        "    \"category\": \"HARM_CATEGORY_HARASSMENT\",\n",
        "    \"threshold\": \"BLOCK_NONE\"\n",
        "  },\n",
        "  {\n",
        "    \"category\": \"HARM_CATEGORY_HATE_SPEECH\",\n",
        "    \"threshold\": \"BLOCK_NONE\"\n",
        "  },\n",
        "  {\n",
        "    \"category\": \"HARM_CATEGORY_SEXUALLY_EXPLICIT\",\n",
        "    \"threshold\": \"BLOCK_NONE\"\n",
        "  },\n",
        "  {\n",
        "    \"category\": \"HARM_CATEGORY_DANGEROUS_CONTENT\",\n",
        "    \"threshold\": \"BLOCK_NONE\"\n",
        "  },\n",
        "]\n",
        "\n",
        "#sistemaInstucoes = \"Comecar:\"\n",
        "\n",
        "model = genai.GenerativeModel(model_name=\"gemini-1.0-pro-latest\",\n",
        "                              generation_config=configuracao_regeneracao,\n",
        "#                              system_instruction=sistemaInstucoes,\n",
        "                              safety_settings=confSalvacoes)\n",
        "\n",
        "#Melhorando a visualização\n",
        "\n",
        "#Código disponível em https://ai.google.dev/tutorials/python_quickstart#import_packages\n",
        "\n",
        "# pip install IPython\n",
        "\n",
        "import pathlib\n",
        "import textwrap\n",
        "\n",
        "import google.generativeai as genai\n",
        "\n",
        "from IPython.display import display\n",
        "from IPython.display import Markdown\n",
        "\n",
        "\n",
        "def to_markdown(text):\n",
        "  text = text.replace('•', '  *')\n",
        "  return Markdown(textwrap.indent(text, '> ', predicate=lambda _: True))\n",
        "\n",
        "\n",
        "\n",
        "\n",
        "# Quais versoes disponiveis\n",
        "#for m in genai.list_models():\n",
        "# if 'generateContent' in m.supported_generation_methods:\n",
        "#   print(m.name)\n",
        "\n",
        "#response = model.generate_content(\"cor de marte e terra?\")\n",
        "#print(response.text)\n",
        "convo = model.start_chat(history=[])\n",
        "def iniciar_chat():\n",
        "    while True:\n",
        "        comando = input(\"Comando ou 'sair' para encerrar): \")\n",
        "        if comando.lower() == 'sair':\n",
        "            print(\"Encerrando o chat.\")\n",
        "            break\n",
        "\n",
        "        # Enviar mensagem para o modelo\n",
        "\n",
        "#        convo = model.start_chat(history=[])\n",
        "        convo.send_message(comando)\n",
        "        conversa = convo.last.text\n",
        "\n",
        "        print(f\"Resposta: {conversa}\\n----------------------------------\")\n",
        "\n",
        "# Iniciar o chat\n",
        "iniciar_chat()"
      ]
    }
  ]
}